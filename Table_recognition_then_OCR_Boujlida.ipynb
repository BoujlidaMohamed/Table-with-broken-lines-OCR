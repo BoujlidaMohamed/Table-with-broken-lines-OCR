{
  "nbformat": 4,
  "nbformat_minor": 0,
  "metadata": {
    "colab": {
      "name": "Table_recognition_then_OCR_Boujlida.ipynb",
      "provenance": []
    },
    "kernelspec": {
      "name": "python3",
      "display_name": "Python 3"
    },
    "language_info": {
      "name": "python"
    },
    "accelerator": "TPU"
  },
  "cells": [
    {
      "cell_type": "markdown",
      "metadata": {
        "id": "iGWYaZGPhA6k"
      },
      "source": [
        "#**This notebook was ran on google colab**\n",
        "Mohamed Boujlida 2021"
      ]
    },
    {
      "cell_type": "markdown",
      "metadata": {
        "id": "bkWDTgzogryy"
      },
      "source": [
        "##First we need to install the necessary libraries to detect the *table*\n",
        "#In this notebook we will use [pdf2image](https://pdf2image.readthedocs.io/en/latest/reference.html) to change the pdf to images and [Layout parser](https://layout-parser.readthedocs.io/en/latest/) to preform OCR"
      ]
    },
    {
      "cell_type": "code",
      "metadata": {
        "colab": {
          "base_uri": "https://localhost:8080/"
        },
        "id": "NqvLZTNfcBu4",
        "outputId": "00c4d8e6-c7c4-4219-d8cb-9005bc918b43"
      },
      "source": [
        "!pip install layoutparser[ocr]\n",
        "## we will use a pretrained model to detect the position of the table\n",
        "!pip3 install 'git+https://github.com/facebookresearch/detectron2.git@v0.4#egg=detectron2'\n",
        "!pip install pdf2image\n",
        "!apt-get install poppler-utils "
      ],
      "execution_count": null,
      "outputs": [
        {
          "output_type": "stream",
          "text": [
            "Requirement already satisfied: layoutparser[ocr] in /usr/local/lib/python3.7/dist-packages (0.2.0)\n",
            "Requirement already satisfied: torchvision in /usr/local/lib/python3.7/dist-packages (from layoutparser[ocr]) (0.9.1+cu101)\n",
            "Requirement already satisfied: opencv-python in /usr/local/lib/python3.7/dist-packages (from layoutparser[ocr]) (4.1.2.30)\n",
            "Requirement already satisfied: iopath in /usr/local/lib/python3.7/dist-packages (from layoutparser[ocr]) (0.1.8)\n",
            "Requirement already satisfied: pillow in /usr/local/lib/python3.7/dist-packages (from layoutparser[ocr]) (7.1.2)\n",
            "Requirement already satisfied: pyyaml>=5.1 in /usr/local/lib/python3.7/dist-packages (from layoutparser[ocr]) (5.4.1)\n",
            "Requirement already satisfied: pandas in /usr/local/lib/python3.7/dist-packages (from layoutparser[ocr]) (1.1.5)\n",
            "Requirement already satisfied: numpy in /usr/local/lib/python3.7/dist-packages (from layoutparser[ocr]) (1.19.5)\n",
            "Requirement already satisfied: torch in /usr/local/lib/python3.7/dist-packages (from layoutparser[ocr]) (1.8.1+cu101)\n",
            "Requirement already satisfied: pytesseract; extra == \"ocr\" in /usr/local/lib/python3.7/dist-packages (from layoutparser[ocr]) (0.3.7)\n",
            "Requirement already satisfied: google-cloud-vision==1; extra == \"ocr\" in /usr/local/lib/python3.7/dist-packages (from layoutparser[ocr]) (1.0.0)\n",
            "Requirement already satisfied: portalocker in /usr/local/lib/python3.7/dist-packages (from iopath->layoutparser[ocr]) (2.3.0)\n",
            "Requirement already satisfied: tqdm in /usr/local/lib/python3.7/dist-packages (from iopath->layoutparser[ocr]) (4.41.1)\n",
            "Requirement already satisfied: python-dateutil>=2.7.3 in /usr/local/lib/python3.7/dist-packages (from pandas->layoutparser[ocr]) (2.8.1)\n",
            "Requirement already satisfied: pytz>=2017.2 in /usr/local/lib/python3.7/dist-packages (from pandas->layoutparser[ocr]) (2018.9)\n",
            "Requirement already satisfied: typing-extensions in /usr/local/lib/python3.7/dist-packages (from torch->layoutparser[ocr]) (3.7.4.3)\n",
            "Requirement already satisfied: google-api-core[grpc]<2.0.0dev,>=1.14.0 in /usr/local/lib/python3.7/dist-packages (from google-cloud-vision==1; extra == \"ocr\"->layoutparser[ocr]) (1.26.3)\n",
            "Requirement already satisfied: six>=1.5 in /usr/local/lib/python3.7/dist-packages (from python-dateutil>=2.7.3->pandas->layoutparser[ocr]) (1.15.0)\n",
            "Requirement already satisfied: protobuf>=3.12.0 in /usr/local/lib/python3.7/dist-packages (from google-api-core[grpc]<2.0.0dev,>=1.14.0->google-cloud-vision==1; extra == \"ocr\"->layoutparser[ocr]) (3.12.4)\n",
            "Requirement already satisfied: packaging>=14.3 in /usr/local/lib/python3.7/dist-packages (from google-api-core[grpc]<2.0.0dev,>=1.14.0->google-cloud-vision==1; extra == \"ocr\"->layoutparser[ocr]) (20.9)\n",
            "Requirement already satisfied: requests<3.0.0dev,>=2.18.0 in /usr/local/lib/python3.7/dist-packages (from google-api-core[grpc]<2.0.0dev,>=1.14.0->google-cloud-vision==1; extra == \"ocr\"->layoutparser[ocr]) (2.23.0)\n",
            "Requirement already satisfied: googleapis-common-protos<2.0dev,>=1.6.0 in /usr/local/lib/python3.7/dist-packages (from google-api-core[grpc]<2.0.0dev,>=1.14.0->google-cloud-vision==1; extra == \"ocr\"->layoutparser[ocr]) (1.53.0)\n",
            "Requirement already satisfied: google-auth<2.0dev,>=1.21.1 in /usr/local/lib/python3.7/dist-packages (from google-api-core[grpc]<2.0.0dev,>=1.14.0->google-cloud-vision==1; extra == \"ocr\"->layoutparser[ocr]) (1.30.0)\n",
            "Requirement already satisfied: setuptools>=40.3.0 in /usr/local/lib/python3.7/dist-packages (from google-api-core[grpc]<2.0.0dev,>=1.14.0->google-cloud-vision==1; extra == \"ocr\"->layoutparser[ocr]) (56.1.0)\n",
            "Requirement already satisfied: grpcio<2.0dev,>=1.29.0; extra == \"grpc\" in /usr/local/lib/python3.7/dist-packages (from google-api-core[grpc]<2.0.0dev,>=1.14.0->google-cloud-vision==1; extra == \"ocr\"->layoutparser[ocr]) (1.34.1)\n",
            "Requirement already satisfied: pyparsing>=2.0.2 in /usr/local/lib/python3.7/dist-packages (from packaging>=14.3->google-api-core[grpc]<2.0.0dev,>=1.14.0->google-cloud-vision==1; extra == \"ocr\"->layoutparser[ocr]) (2.4.7)\n",
            "Requirement already satisfied: chardet<4,>=3.0.2 in /usr/local/lib/python3.7/dist-packages (from requests<3.0.0dev,>=2.18.0->google-api-core[grpc]<2.0.0dev,>=1.14.0->google-cloud-vision==1; extra == \"ocr\"->layoutparser[ocr]) (3.0.4)\n",
            "Requirement already satisfied: urllib3!=1.25.0,!=1.25.1,<1.26,>=1.21.1 in /usr/local/lib/python3.7/dist-packages (from requests<3.0.0dev,>=2.18.0->google-api-core[grpc]<2.0.0dev,>=1.14.0->google-cloud-vision==1; extra == \"ocr\"->layoutparser[ocr]) (1.24.3)\n",
            "Requirement already satisfied: certifi>=2017.4.17 in /usr/local/lib/python3.7/dist-packages (from requests<3.0.0dev,>=2.18.0->google-api-core[grpc]<2.0.0dev,>=1.14.0->google-cloud-vision==1; extra == \"ocr\"->layoutparser[ocr]) (2020.12.5)\n",
            "Requirement already satisfied: idna<3,>=2.5 in /usr/local/lib/python3.7/dist-packages (from requests<3.0.0dev,>=2.18.0->google-api-core[grpc]<2.0.0dev,>=1.14.0->google-cloud-vision==1; extra == \"ocr\"->layoutparser[ocr]) (2.10)\n",
            "Requirement already satisfied: cachetools<5.0,>=2.0.0 in /usr/local/lib/python3.7/dist-packages (from google-auth<2.0dev,>=1.21.1->google-api-core[grpc]<2.0.0dev,>=1.14.0->google-cloud-vision==1; extra == \"ocr\"->layoutparser[ocr]) (4.2.2)\n",
            "Requirement already satisfied: pyasn1-modules>=0.2.1 in /usr/local/lib/python3.7/dist-packages (from google-auth<2.0dev,>=1.21.1->google-api-core[grpc]<2.0.0dev,>=1.14.0->google-cloud-vision==1; extra == \"ocr\"->layoutparser[ocr]) (0.2.8)\n",
            "Requirement already satisfied: rsa<5,>=3.1.4; python_version >= \"3.6\" in /usr/local/lib/python3.7/dist-packages (from google-auth<2.0dev,>=1.21.1->google-api-core[grpc]<2.0.0dev,>=1.14.0->google-cloud-vision==1; extra == \"ocr\"->layoutparser[ocr]) (4.7.2)\n",
            "Requirement already satisfied: pyasn1<0.5.0,>=0.4.6 in /usr/local/lib/python3.7/dist-packages (from pyasn1-modules>=0.2.1->google-auth<2.0dev,>=1.21.1->google-api-core[grpc]<2.0.0dev,>=1.14.0->google-cloud-vision==1; extra == \"ocr\"->layoutparser[ocr]) (0.4.8)\n",
            "Requirement already satisfied: detectron2 from git+https://github.com/facebookresearch/detectron2.git@v0.4#egg=detectron2 in /usr/local/lib/python3.7/dist-packages (0.4)\n",
            "Requirement already satisfied: matplotlib in /usr/local/lib/python3.7/dist-packages (from detectron2) (3.2.2)\n",
            "Requirement already satisfied: Pillow>=7.1 in /usr/local/lib/python3.7/dist-packages (from detectron2) (7.1.2)\n",
            "Requirement already satisfied: termcolor>=1.1 in /usr/local/lib/python3.7/dist-packages (from detectron2) (1.1.0)\n",
            "Requirement already satisfied: pycocotools>=2.0.2 in /usr/local/lib/python3.7/dist-packages (from detectron2) (2.0.2)\n",
            "Requirement already satisfied: omegaconf>=2 in /usr/local/lib/python3.7/dist-packages (from detectron2) (2.0.6)\n",
            "Requirement already satisfied: fvcore<0.1.4,>=0.1.3 in /usr/local/lib/python3.7/dist-packages (from detectron2) (0.1.3.post20210317)\n",
            "Requirement already satisfied: yacs>=0.1.6 in /usr/local/lib/python3.7/dist-packages (from detectron2) (0.1.8)\n",
            "Requirement already satisfied: future in /usr/local/lib/python3.7/dist-packages (from detectron2) (0.16.0)\n",
            "Requirement already satisfied: tabulate in /usr/local/lib/python3.7/dist-packages (from detectron2) (0.8.9)\n",
            "Requirement already satisfied: cloudpickle in /usr/local/lib/python3.7/dist-packages (from detectron2) (1.3.0)\n",
            "Requirement already satisfied: pydot in /usr/local/lib/python3.7/dist-packages (from detectron2) (1.3.0)\n",
            "Requirement already satisfied: tensorboard in /usr/local/lib/python3.7/dist-packages (from detectron2) (2.5.0)\n",
            "Requirement already satisfied: tqdm>4.29.0 in /usr/local/lib/python3.7/dist-packages (from detectron2) (4.41.1)\n",
            "Requirement already satisfied: iopath>=0.1.2 in /usr/local/lib/python3.7/dist-packages (from detectron2) (0.1.8)\n",
            "Requirement already satisfied: kiwisolver>=1.0.1 in /usr/local/lib/python3.7/dist-packages (from matplotlib->detectron2) (1.3.1)\n",
            "Requirement already satisfied: pyparsing!=2.0.4,!=2.1.2,!=2.1.6,>=2.0.1 in /usr/local/lib/python3.7/dist-packages (from matplotlib->detectron2) (2.4.7)\n",
            "Requirement already satisfied: cycler>=0.10 in /usr/local/lib/python3.7/dist-packages (from matplotlib->detectron2) (0.10.0)\n",
            "Requirement already satisfied: python-dateutil>=2.1 in /usr/local/lib/python3.7/dist-packages (from matplotlib->detectron2) (2.8.1)\n",
            "Requirement already satisfied: numpy>=1.11 in /usr/local/lib/python3.7/dist-packages (from matplotlib->detectron2) (1.19.5)\n",
            "Requirement already satisfied: setuptools>=18.0 in /usr/local/lib/python3.7/dist-packages (from pycocotools>=2.0.2->detectron2) (56.1.0)\n",
            "Requirement already satisfied: cython>=0.27.3 in /usr/local/lib/python3.7/dist-packages (from pycocotools>=2.0.2->detectron2) (0.29.23)\n",
            "Requirement already satisfied: typing-extensions in /usr/local/lib/python3.7/dist-packages (from omegaconf>=2->detectron2) (3.7.4.3)\n",
            "Requirement already satisfied: PyYAML>=5.1.* in /usr/local/lib/python3.7/dist-packages (from omegaconf>=2->detectron2) (5.4.1)\n",
            "Requirement already satisfied: google-auth<2,>=1.6.3 in /usr/local/lib/python3.7/dist-packages (from tensorboard->detectron2) (1.30.0)\n",
            "Requirement already satisfied: tensorboard-plugin-wit>=1.6.0 in /usr/local/lib/python3.7/dist-packages (from tensorboard->detectron2) (1.8.0)\n",
            "Requirement already satisfied: grpcio>=1.24.3 in /usr/local/lib/python3.7/dist-packages (from tensorboard->detectron2) (1.34.1)\n",
            "Requirement already satisfied: tensorboard-data-server<0.7.0,>=0.6.0 in /usr/local/lib/python3.7/dist-packages (from tensorboard->detectron2) (0.6.1)\n",
            "Requirement already satisfied: requests<3,>=2.21.0 in /usr/local/lib/python3.7/dist-packages (from tensorboard->detectron2) (2.23.0)\n",
            "Requirement already satisfied: werkzeug>=0.11.15 in /usr/local/lib/python3.7/dist-packages (from tensorboard->detectron2) (1.0.1)\n",
            "Requirement already satisfied: markdown>=2.6.8 in /usr/local/lib/python3.7/dist-packages (from tensorboard->detectron2) (3.3.4)\n",
            "Requirement already satisfied: protobuf>=3.6.0 in /usr/local/lib/python3.7/dist-packages (from tensorboard->detectron2) (3.12.4)\n",
            "Requirement already satisfied: wheel>=0.26; python_version >= \"3\" in /usr/local/lib/python3.7/dist-packages (from tensorboard->detectron2) (0.36.2)\n",
            "Requirement already satisfied: google-auth-oauthlib<0.5,>=0.4.1 in /usr/local/lib/python3.7/dist-packages (from tensorboard->detectron2) (0.4.4)\n",
            "Requirement already satisfied: absl-py>=0.4 in /usr/local/lib/python3.7/dist-packages (from tensorboard->detectron2) (0.12.0)\n",
            "Requirement already satisfied: portalocker in /usr/local/lib/python3.7/dist-packages (from iopath>=0.1.2->detectron2) (2.3.0)\n",
            "Requirement already satisfied: six in /usr/local/lib/python3.7/dist-packages (from cycler>=0.10->matplotlib->detectron2) (1.15.0)\n",
            "Requirement already satisfied: pyasn1-modules>=0.2.1 in /usr/local/lib/python3.7/dist-packages (from google-auth<2,>=1.6.3->tensorboard->detectron2) (0.2.8)\n",
            "Requirement already satisfied: rsa<5,>=3.1.4; python_version >= \"3.6\" in /usr/local/lib/python3.7/dist-packages (from google-auth<2,>=1.6.3->tensorboard->detectron2) (4.7.2)\n",
            "Requirement already satisfied: cachetools<5.0,>=2.0.0 in /usr/local/lib/python3.7/dist-packages (from google-auth<2,>=1.6.3->tensorboard->detectron2) (4.2.2)\n",
            "Requirement already satisfied: certifi>=2017.4.17 in /usr/local/lib/python3.7/dist-packages (from requests<3,>=2.21.0->tensorboard->detectron2) (2020.12.5)\n",
            "Requirement already satisfied: idna<3,>=2.5 in /usr/local/lib/python3.7/dist-packages (from requests<3,>=2.21.0->tensorboard->detectron2) (2.10)\n",
            "Requirement already satisfied: chardet<4,>=3.0.2 in /usr/local/lib/python3.7/dist-packages (from requests<3,>=2.21.0->tensorboard->detectron2) (3.0.4)\n",
            "Requirement already satisfied: urllib3!=1.25.0,!=1.25.1,<1.26,>=1.21.1 in /usr/local/lib/python3.7/dist-packages (from requests<3,>=2.21.0->tensorboard->detectron2) (1.24.3)\n",
            "Requirement already satisfied: importlib-metadata; python_version < \"3.8\" in /usr/local/lib/python3.7/dist-packages (from markdown>=2.6.8->tensorboard->detectron2) (4.0.1)\n",
            "Requirement already satisfied: requests-oauthlib>=0.7.0 in /usr/local/lib/python3.7/dist-packages (from google-auth-oauthlib<0.5,>=0.4.1->tensorboard->detectron2) (1.3.0)\n",
            "Requirement already satisfied: pyasn1<0.5.0,>=0.4.6 in /usr/local/lib/python3.7/dist-packages (from pyasn1-modules>=0.2.1->google-auth<2,>=1.6.3->tensorboard->detectron2) (0.4.8)\n",
            "Requirement already satisfied: zipp>=0.5 in /usr/local/lib/python3.7/dist-packages (from importlib-metadata; python_version < \"3.8\"->markdown>=2.6.8->tensorboard->detectron2) (3.4.1)\n",
            "Requirement already satisfied: oauthlib>=3.0.0 in /usr/local/lib/python3.7/dist-packages (from requests-oauthlib>=0.7.0->google-auth-oauthlib<0.5,>=0.4.1->tensorboard->detectron2) (3.1.0)\n",
            "Requirement already satisfied: pdf2image in /usr/local/lib/python3.7/dist-packages (1.15.1)\n",
            "Requirement already satisfied: pillow in /usr/local/lib/python3.7/dist-packages (from pdf2image) (7.1.2)\n",
            "Reading package lists... Done\n",
            "Building dependency tree       \n",
            "Reading state information... Done\n",
            "poppler-utils is already the newest version (0.62.0-2ubuntu2.12).\n",
            "The following package was automatically installed and is no longer required:\n",
            "  libnvidia-common-460\n",
            "Use 'apt autoremove' to remove it.\n",
            "0 upgraded, 0 newly installed, 0 to remove and 34 not upgraded.\n"
          ],
          "name": "stdout"
        }
      ]
    },
    {
      "cell_type": "markdown",
      "metadata": {
        "id": "RyuCrxLDgW5A"
      },
      "source": [
        "# Table Detection\n",
        "###now if you are working on colab you might want to use google drive to save your data, the below is code for mounting drive\n",
        "## Get our data from google drive (optional)"
      ]
    },
    {
      "cell_type": "code",
      "metadata": {
        "colab": {
          "base_uri": "https://localhost:8080/"
        },
        "id": "CyiM8hq4b6Ys",
        "outputId": "c9eaa250-7fa1-4a43-807c-24e7f70e0bbb"
      },
      "source": [
        "from google.colab import drive\n",
        "drive.mount('/content/drive')\n",
        "import os\n",
        "##change the directory to the file where I uploaded the neceessary documents\n",
        "os.chdir(\"write your desired directory here \")"
      ],
      "execution_count": null,
      "outputs": [
        {
          "output_type": "stream",
          "text": [
            "Drive already mounted at /content/drive; to attempt to forcibly remount, call drive.mount(\"/content/drive\", force_remount=True).\n"
          ],
          "name": "stdout"
        }
      ]
    },
    {
      "cell_type": "markdown",
      "metadata": {
        "id": "ls_nmNsGg7Qa"
      },
      "source": [
        "# Import the necessary libraries to detect the table "
      ]
    },
    {
      "cell_type": "code",
      "metadata": {
        "id": "K6RZaAQkcgCJ"
      },
      "source": [
        "import layoutparser as lp \n",
        "\n",
        "import matplotlib.pyplot as plt\n",
        "%matplotlib inline \n",
        "\n",
        "import pandas as pd\n",
        "import numpy as np\n",
        "import cv2\n",
        "import csv\n",
        "\n",
        "try:\n",
        "    from PIL import Image\n",
        "except ImportError:\n",
        "    import Image"
      ],
      "execution_count": null,
      "outputs": []
    },
    {
      "cell_type": "markdown",
      "metadata": {
        "id": "LgATwLUlhSC6"
      },
      "source": [
        "## Read the the KEY  in order to preform OCR \n",
        "### layout parser uses Google cloud Vision api in order to prefrom OCR learning more about it here [Google cloud Vision](https://cloud.google.com/vision/docs/ocr) and for the key [Key](https://cloud.google.com/docs/authentication/api-keys)"
      ]
    },
    {
      "cell_type": "code",
      "metadata": {
        "id": "JdZhP98Hc9bb"
      },
      "source": [
        "ocr_agent = lp.GCVAgent.with_credential(\"write the path of your token here , it should end with .json\",languages = ['choose the desired langauge, if it is english just write \"en\", if it is japanese , wirte \"ja\"'])"
      ],
      "execution_count": null,
      "outputs": []
    },
    {
      "cell_type": "markdown",
      "metadata": {
        "id": "IecAYMdNhfnp"
      },
      "source": [
        "## get the deep learning model to preform table detection"
      ]
    },
    {
      "cell_type": "code",
      "metadata": {
        "id": "xODvb9DA3Bab"
      },
      "source": [
        "model = lp.Detectron2LayoutModel('lp://TableBank/faster_rcnn_R_101_FPN_3x/config',\n",
        "                                 label_map={0: \"Table\"})"
      ],
      "execution_count": null,
      "outputs": []
    },
    {
      "cell_type": "markdown",
      "metadata": {
        "id": "YiyD4p8UUzV9"
      },
      "source": [
        "#change pdf to pictures (optional)\n",
        "\n"
      ]
    },
    {
      "cell_type": "code",
      "metadata": {
        "id": "VB-xzWfWUZZl"
      },
      "source": [
        "change_to_image=True\n",
        "first_page=0\n",
        "#last page +1\n",
        "last_page=159\n",
        "if change_to_image:\n",
        "  input_path='input path for the pdf'\n",
        "  output_path=\"output path for transformed images from the pdf\"\n",
        "  from pdf2image import convert_from_path \n",
        "  # Store Pdf with convert_from_path function\n",
        "  for i in range(first_page,last_page):\n",
        "    images = convert_from_path(input_path,first_page=i,last_page=i+1,dpi=1000)\n",
        "    images[0].save(output_path+'page'+ str(i) +'.jpg', 'JPEG')"
      ],
      "execution_count": null,
      "outputs": []
    },
    {
      "cell_type": "markdown",
      "metadata": {
        "id": "u-6W97qOH5YT"
      },
      "source": [
        "##set your paths"
      ]
    },
    {
      "cell_type": "code",
      "metadata": {
        "id": "6CEDG7ZAQQoQ"
      },
      "source": [
        "#set the output file name \n",
        "output_file=\"output1\"\n",
        "path_output=os.path.join(\"output path for excel file\",output_file)\n",
        "os.mkdir(path_output)"
      ],
      "execution_count": null,
      "outputs": []
    },
    {
      "cell_type": "markdown",
      "metadata": {
        "id": "My7ly5mgH9Nh"
      },
      "source": [
        "#now let's start the algorithm\n",
        "## I based the algorithm on the one  [here](https://gist.github.com/huks0/e48d604fc9dd91731bc687d6e3933db4#file-cellrecognition-py)\n",
        "### my contriubtion is using layout parser to detect the table first, then preform ocr on all the document first, then assign the texts using their coordinates to their respective cells, I found that this method works much better then applying ocr to each detected contour cell, I also added some code to fix broken lines in the table"
      ]
    },
    {
      "cell_type": "code",
      "metadata": {
        "id": "mbwSkywng2z-"
      },
      "source": [
        "#set the start page and end page number\n",
        "first_page=0\n",
        "#last page +1\n",
        "last_page=40\n",
        "for counter in range(first_page,last_page):\n",
        "\n",
        "  image_file=os.path.join(output_path,\"page\"+str(counter)+\".jpg\")\n",
        "  image = cv2.imread(image_file)\n",
        "  layout = model.detect(image)\n",
        "  l=layout.to_dataframe()\n",
        "  x_1=int(l[\"x_1\"])\n",
        "  x_2=int(l[\"x_2\"])\n",
        "  y_1=int(l[\"y_1\"])\n",
        "  y_2=int(l[\"y_2\"])\n",
        "  im =image[y_1:y_2, x_1:x_2]\n",
        "  file_path=os.path.join(output_file,\"page\"+str(counter))\n",
        "  os.mkdir(file_path)\n",
        "  cv2.imwrite(file_path+\"/original_page\"+str(counter)+\".jpg\",image)\n",
        "  cv2.imwrite(file_path+\"/cropped_page\"+str(counter)+\".jpg\",im)\n",
        "\n",
        "\n",
        "  img=cv2.cvtColor(im, cv2.COLOR_BGR2GRAY)\n",
        "\n",
        "  #thresholding the image to a binary image\n",
        "  blur = cv2.GaussianBlur(img,(5,5),0)\n",
        "  thresh,img_bin = cv2.threshold(blur,128,255,cv2.THRESH_BINARY | cv2.THRESH_OTSU)\n",
        "\n",
        "  #inverting the image \n",
        "  img_bin = 255-img_bin\n",
        "  #Use horizontal kernel to detect and save the horizontal lines in a jpg\n",
        "  hor_kernel=np.ones((1,120), np.uint8)\n",
        "  image_2 = cv2.erode(img_bin, hor_kernel, iterations=3)\n",
        "  horizontal_lines = cv2.dilate(image_2, hor_kernel, iterations=3)\n",
        "  kernal_h = np.ones((1,50), np.uint8)\n",
        "  closing_h= cv2.dilate(horizontal_lines, kernal_h, iterations=80)\n",
        "  kernal_h = np.ones((2,4), np.uint8)\n",
        "  eroded_h=cv2.erode(closing_h, kernal_h, iterations=1)\n",
        "  ver_kernel=np.ones((70,1), np.uint8)\n",
        "  #Use vertical kernel to detect and save the vertical lines in a jpg\n",
        "  image_1 = cv2.erode(img_bin, ver_kernel, iterations=3)\n",
        "  image2 = cv2.dilate(image_1, ver_kernel, iterations=20)\n",
        "  vertical_lines = cv2.erode(image2, np.ones((2,2), np.uint8), iterations=3)\n",
        "  # Combine horizontal and vertical lines in a new third image, with both having same weight.\n",
        "  img_vh = cv2.addWeighted(vertical_lines, 0.5, eroded_h, 0.5, 0.0)\n",
        "  #Eroding and thesholding the image\n",
        "  kernel = cv2.getStructuringElement(cv2.MORPH_RECT, (2, 2))\n",
        "  img_vh = cv2.erode(~img_vh, kernel, iterations=2)\n",
        "  thresh, img_vh = cv2.threshold(img_vh,128,255, cv2.THRESH_BINARY | cv2.THRESH_OTSU)\n",
        "  bitxor = cv2.bitwise_xor(img,img_vh)\n",
        "  bitnot = cv2.bitwise_not(bitxor)\n",
        "  img= im\n",
        "  # Detect contours for following box detection\n",
        "  contours, hierarchy = cv2.findContours(img_vh, cv2.RETR_TREE, cv2.CHAIN_APPROX_SIMPLE)\n",
        "\n",
        "  def sort_contours(cnts, method=\"left-to-right\"):\n",
        "      # initialize the reverse flag and sort index\n",
        "      reverse = False\n",
        "      i = 0\n",
        "      # handle if we need to sort in reverse\n",
        "      if method == \"right-to-left\" or method == \"bottom-to-top\":\n",
        "          reverse = True\n",
        "      # handle if we are sorting against the y-coordinate rather than\n",
        "      # the x-coordinate of the bounding box\n",
        "      if method == \"top-to-bottom\" or method == \"bottom-to-top\":\n",
        "          i = 1\n",
        "      # construct the list of bounding boxes and sort them from top to\n",
        "      # bottom\n",
        "      boundingBoxes = [cv2.boundingRect(c) for c in cnts]\n",
        "      (cnts, boundingBoxes) = zip(*sorted(zip(cnts, boundingBoxes),\n",
        "      key=lambda b:b[1][i], reverse=reverse))\n",
        "      # return the list of sorted contours and bounding boxes\n",
        "      return (cnts, boundingBoxes)\n",
        "\n",
        "  # Sort all the contours by top to bottom.\n",
        "  contours, boundingBoxes = sort_contours(contours, method=\"top-to-bottom\")\n",
        "\n",
        "\n",
        "  #Creating a list of heights for all detected boxes\n",
        "  heights = [boundingBoxes[i][3] for i in range(len(boundingBoxes))]\n",
        "\n",
        "  #Get mean of heights\n",
        "  mean = np.mean(heights)\n",
        "\n",
        "  #Create list box to store all boxes in  \n",
        "  box = []\n",
        "  # Get position (x,y), width and height for every contour and show the contour on image\n",
        "  for c in contours:\n",
        "      x, y, w, h = cv2.boundingRect(c)\n",
        "      # if (w<1000 and h<1000) and (x>1000 and y >1000):\n",
        "      # image = \n",
        "      cv2.rectangle(img,(x,y),(x+w,y+h),(0,255,0),2)\n",
        "      box.append([x,y,w,h])\n",
        "  #Creating two lists to define row and column in which cell is located\n",
        "  row=[]\n",
        "  column=[]\n",
        "  j=0\n",
        "\n",
        "  #Sorting the boxes to their respective row and column\n",
        "  for i in range(len(box)):    \n",
        "          \n",
        "      if(i==0):\n",
        "          column.append(box[i])\n",
        "          previous=box[i]    \n",
        "      \n",
        "      else:\n",
        "          if(box[i][1]<=previous[1]+mean/2):\n",
        "              column.append(box[i])\n",
        "              previous=box[i]            \n",
        "              \n",
        "              if(i==len(box)-1):\n",
        "                  row.append(column)        \n",
        "              \n",
        "          else:\n",
        "              row.append(column)\n",
        "              column=[]\n",
        "              previous = box[i]\n",
        "              column.append(box[i])\n",
        "\n",
        "  #calculating maximum number of cells\n",
        "  countcol = 0\n",
        "  for i in range(len(row)):\n",
        "      countcol = len(row[i])\n",
        "      if countcol > countcol:\n",
        "          countcol = countcol\n",
        "\n",
        "  #Retrieving the center of each column\n",
        "  center = [int(row[i][j][0]+row[i][j][2]/2) for j in range(len(row[i])) if row[0]]\n",
        "\n",
        "  center=np.array(center)\n",
        "  center.sort()\n",
        "  res = ocr_agent.detect(im, return_response=True)\n",
        "  texts  = ocr_agent.gather_text_annotations(res) \n",
        "      # collect all the texts without coordinates\n",
        "  layout = ocr_agent.gather_full_text_annotation(res, agg_level=lp.GCVFeatureType.WORD)\n",
        "      # collect all the layout elements of the `WORD` level\n",
        "\n",
        "  #Regarding the distance to the columns center, the boxes are arranged in respective order\n",
        "\n",
        "  finalboxes = []\n",
        "  for i in range(len(row)):\n",
        "      lis=[]\n",
        "      for k in range(countcol):\n",
        "          lis.append([])\n",
        "      for j in range(len(row[i])):\n",
        "          diff = abs(center-(row[i][j][0]+row[i][j][2]/4))\n",
        "          minimum = min(diff)\n",
        "          indexing = list(diff).index(minimum)\n",
        "          lis[indexing].append(row[i][j])\n",
        "      finalboxes.append(lis)\n",
        "\n",
        "\n",
        "  #from every single image-based cell/box the strings are extracted via pytesseract and stored in a list\n",
        "  outer=[]\n",
        "  for i in range(len(finalboxes)):\n",
        "      for j in range(len(finalboxes[i])):\n",
        "          inner=''\n",
        "          if(len(finalboxes[i][j])==0):\n",
        "              outer.append(' ')\n",
        "          else:\n",
        "              for k in range(len(finalboxes[i][j])):\n",
        "                #get coorinates of the cell\n",
        "                  y,x,w,h = finalboxes[i][j][k][0],finalboxes[i][j][k][1], finalboxes[i][j][k][2],finalboxes[i][j][k][3]\n",
        "                  #get the text in those coordinates , here \n",
        "                  s=layout.filter_by(lp.Rectangle(y,x,y+w,x+h)).get_texts()\n",
        "                  out = \" \".join(ss for ss in s)\n",
        "                  inner = inner +\" \"+ out\n",
        "              outer.append(inner)\n",
        "\n",
        "  #Creating a dataframe of the generated OCR list\n",
        "  arr = np.array(outer)\n",
        "  dataframe = pd.DataFrame(arr.reshape(len(row), countcol))\n",
        "  # print(dataframe)\n",
        "  data = dataframe.style.set_properties(align=\"left\")\n",
        "  #Converting it in a excel-file\n",
        "  excel_path=os.path.join(file_path,\"output_cropped\"+str(counter)+\".xlsx\")\n",
        "  data.to_excel(excel_path)"
      ],
      "execution_count": null,
      "outputs": []
    }
  ]
}